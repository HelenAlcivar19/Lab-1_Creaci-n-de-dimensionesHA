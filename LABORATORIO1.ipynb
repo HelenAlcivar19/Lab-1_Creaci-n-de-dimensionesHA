{
  "nbformat": 4,
  "nbformat_minor": 0,
  "metadata": {
    "colab": {
      "name": "LABORATORIO1",
      "provenance": [],
      "authorship_tag": "ABX9TyMHwbnxXG0KXjTVlk0LD3oa",
      "include_colab_link": true
    },
    "kernelspec": {
      "name": "python3",
      "display_name": "Python 3"
    },
    "language_info": {
      "name": "python"
    }
  },
  "cells": [
    {
      "cell_type": "markdown",
      "metadata": {
        "id": "view-in-github",
        "colab_type": "text"
      },
      "source": [
        "<a href=\"https://colab.research.google.com/github/HelenAlcivar19/Lab-1_Creaci-n-de-dimensionesHA/blob/main/LABORATORIO1.ipynb\" target=\"_parent\"><img src=\"https://colab.research.google.com/assets/colab-badge.svg\" alt=\"Open In Colab\"/></a>"
      ]
    },
    {
      "cell_type": "code",
      "execution_count": 1,
      "metadata": {
        "id": "KayWB_oFY-km"
      },
      "outputs": [],
      "source": [
        "#https://www4.stat.ncsu.edu/~boos/var.select/diabetes.html\n"
      ]
    },
    {
      "cell_type": "code",
      "source": [
        ""
      ],
      "metadata": {
        "id": "gT88QirnZhD6"
      },
      "execution_count": null,
      "outputs": []
    }
  ]
}